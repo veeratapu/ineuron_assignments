{
 "cells": [
  {
   "cell_type": "markdown",
   "id": "61ff27e3",
   "metadata": {},
   "source": [
    "# 1.Python – Least Frequent Character in String"
   ]
  },
  {
   "cell_type": "code",
   "execution_count": 15,
   "id": "17eb0641",
   "metadata": {},
   "outputs": [
    {
     "name": "stdout",
     "output_type": "stream",
     "text": [
      "Enter the string : aabccdddee\n",
      "Character with least frequency is b\n"
     ]
    }
   ],
   "source": [
    "from collections import Counter  \n",
    "s =  input('Enter the string : ')\n",
    "\n",
    "f = Counter(s)\n",
    "l_f = min(f , key = f.get)\n",
    "print(f'Character with least frequency is {l_f}')\n"
   ]
  },
  {
   "cell_type": "markdown",
   "id": "c1f8030e",
   "metadata": {},
   "source": [
    "# 2.Python | Maximum frequency character in String"
   ]
  },
  {
   "cell_type": "code",
   "execution_count": 16,
   "id": "6bfe56cc",
   "metadata": {},
   "outputs": [
    {
     "name": "stdout",
     "output_type": "stream",
     "text": [
      "Enter the string : aaaaabcd\n",
      "Character with maximum frequency is a\n"
     ]
    }
   ],
   "source": [
    "from collections import Counter  \n",
    "s =  input('Enter the string : ')\n",
    "\n",
    "f = Counter(s)\n",
    "l_f = max(f , key = f.get)\n",
    "print(f'Character with maximum frequency is {l_f}')\n"
   ]
  },
  {
   "cell_type": "markdown",
   "id": "e67631bd",
   "metadata": {},
   "source": [
    "# 3.Python | Program to check if a string contains any special character"
   ]
  },
  {
   "cell_type": "code",
   "execution_count": 21,
   "id": "74020894",
   "metadata": {},
   "outputs": [
    {
     "name": "stdout",
     "output_type": "stream",
     "text": [
      "Enter a String: gkj$jkhfkdg&*rgj\n",
      "String Contains special character.\n"
     ]
    }
   ],
   "source": [
    "import re\n",
    "\n",
    "def check_string(string):\n",
    "\n",
    "   regex = re.compile('[@_!#$%^&*()<>?/\\|}{~:]')\n",
    "   if(regex.search(string) == None):\n",
    "      print(\"String does not contain any special characters.\")\n",
    "   else:\n",
    "      print(\"String Contains special character.\")\n",
    "\n",
    "string = input('Enter a String: ')\n",
    "check_string(string)"
   ]
  },
  {
   "cell_type": "markdown",
   "id": "69fb25ed",
   "metadata": {},
   "source": [
    "# 4.Generating random strings until a given string is generated"
   ]
  },
  {
   "cell_type": "code",
   "execution_count": null,
   "id": "3526ce2d",
   "metadata": {},
   "outputs": [],
   "source": [
    "import string\n",
    "import random\n",
    "import time\n",
    "  \n",
    "\n",
    "char = string.ascii_lowercase + string.digits + \n",
    "                     string.ascii_uppercase + ' ., !?;:'\n",
    "  \n",
    "\n",
    "t = \"geek\"\n",
    "  \n",
    "\n",
    "  \n",
    "t_1 = ''.join(random.choice(char)\n",
    "                                for i in range(len(t)))\n",
    "t_2 = ''\n",
    "  \n",
    "completed = False\n",
    "iteration = 0\n",
    "  \n",
    "\n",
    "while completed == False:\n",
    "    print(t_1)\n",
    "      \n",
    "    t_2 = ''\n",
    "    completed = True\n",
    "      \n",
    "    \n",
    "    for i in range(len(t)):\n",
    "        if t_1[i] != t[i]:\n",
    "            completed = False\n",
    "            t_2 += random.choice(char)\n",
    "        else:\n",
    "            t_2 += t[i]\n",
    "              \n",
    "    \n",
    "    iteration += 1\n",
    "    t_1 = t_2\n",
    "    time.sleep(0.1)\n",
    "  \n",
    "\n",
    "print(\"Target matched after \" +\n",
    "      str(iteration) + \" iterations\")"
   ]
  },
  {
   "cell_type": "markdown",
   "id": "a212eeff",
   "metadata": {},
   "source": [
    "# 5. Find words which are greater than given length k"
   ]
  },
  {
   "cell_type": "code",
   "execution_count": 32,
   "id": "b43474c0",
   "metadata": {},
   "outputs": [
    {
     "name": "stdout",
     "output_type": "stream",
     "text": [
      "enter a stringtg sdfg dgggh jg fdghfgh fdghsfth fgh\n",
      "Enter minimum length of string:2\n",
      "Words with length greater than 2 letters are : ['sdfg', 'dgggh', 'fdghfgh', 'fdghsfth', 'fgh']\n"
     ]
    }
   ],
   "source": [
    "s = input('enter a string').split()\n",
    "n = int(input('Enter minimum length of string:'))\n",
    "w = []\n",
    "for i in s:\n",
    "    if len(i) > n:\n",
    "        w.append(i)\n",
    "print(f'Words with length greater than {n} letters are : {w}')\n"
   ]
  },
  {
   "cell_type": "markdown",
   "id": "863ac2a8",
   "metadata": {},
   "source": [
    "# 6. Python program for removing i-th character from a string"
   ]
  },
  {
   "cell_type": "code",
   "execution_count": 36,
   "id": "30399071",
   "metadata": {},
   "outputs": [
    {
     "name": "stdout",
     "output_type": "stream",
     "text": [
      "enter a string: jfgd\n",
      "Enter index of character to be removed:2\n",
      "After Removing the particular character , string is jfd\n"
     ]
    }
   ],
   "source": [
    "s = input('enter a string: ')\n",
    "i = int(input('Enter index of character to be removed:'))\n",
    "s_r = s.replace(s[i],'')\n",
    "print(f'After Removing the particular character , string is : {s_r}')"
   ]
  },
  {
   "cell_type": "markdown",
   "id": "3dda4f26",
   "metadata": {},
   "source": [
    "# 7. Python program to split and join a string"
   ]
  },
  {
   "cell_type": "code",
   "execution_count": 39,
   "id": "57138c1f",
   "metadata": {},
   "outputs": [
    {
     "name": "stdout",
     "output_type": "stream",
     "text": [
      "enter a string: fdgb dvbsdb cdgfbsdbvdbv dfvbadvgf\n",
      "fdgbdvbsdbcdgfbsdbvdbvdfvbadvgf\n"
     ]
    }
   ],
   "source": [
    "s = input('enter a string: ').split()\n",
    "\n",
    "s_n = ' '.join(s)\n",
    "print(s_n)"
   ]
  },
  {
   "cell_type": "markdown",
   "id": "3f9b4a22",
   "metadata": {},
   "source": [
    "# 8. Python | Check if a given string is binary string or not"
   ]
  },
  {
   "cell_type": "code",
   "execution_count": 44,
   "id": "f438a0b2",
   "metadata": {},
   "outputs": [
    {
     "name": "stdout",
     "output_type": "stream",
     "text": [
      "enter a string: 1001\n",
      "1001 is a Binary String\n"
     ]
    }
   ],
   "source": [
    "s = input('enter a string: ')\n",
    "n =  set(s)\n",
    "se = {'0', '1'}\n",
    "if se == n or n == {'0'} or n == {'1'}:\n",
    "    print(f'{s} is a Binary String')\n",
    "else :\n",
    "    print(f'{s} is not a Binary String')"
   ]
  },
  {
   "cell_type": "markdown",
   "id": "092307a6",
   "metadata": {},
   "source": [
    "# 9. Python program to find uncommon words from two Strings"
   ]
  },
  {
   "cell_type": "code",
   "execution_count": 52,
   "id": "9db67767",
   "metadata": {},
   "outputs": [
    {
     "name": "stdout",
     "output_type": "stream",
     "text": [
      "enter first string: a ab abc abcd abcde \n",
      "enter second string: a ab abc hf dh \n",
      "Uncommon Words {'abcd', 'hf', 'dh', 'abcde'}\n"
     ]
    }
   ],
   "source": [
    "s1 = input('enter first string: ').split()\n",
    "s2 = input('enter second string: ').split()\n",
    "u_c_w = set(s1).symmetric_difference(set(s2))\n",
    "\n",
    "print(f'Uncommon Words {u_c_w}')\n"
   ]
  },
  {
   "cell_type": "markdown",
   "id": "38bf261d",
   "metadata": {},
   "source": [
    "# 10.\tPython – Replace duplicate Occurrence in String"
   ]
  },
  {
   "cell_type": "code",
   "execution_count": 57,
   "id": "10fd1346",
   "metadata": {},
   "outputs": [
    {
     "name": "stdout",
     "output_type": "stream",
     "text": [
      "The original string is : Satish is learing Python. Satish is working on Assignment. \n",
      "The string after replacing : Satish is learing Python. He is working on Assignment. \n"
     ]
    }
   ],
   "source": [
    "s1  = 'Satish is learing Python. Satish is working on Assignment. '\n",
    "  \n",
    "\n",
    "print(\"The original string is : \" + str(s1))\n",
    "  \n",
    " \n",
    "re_di = {'Satish' : 'He'}\n",
    "  \n",
    "\n",
    "s2 = s1.split(' ')\n",
    "repl = ' '.join([re_di.get(val) if val in re_di.keys() and s2.index(val) != idx \n",
    "                                   else val for idx, val in enumerate(s2)])\n",
    "  \n",
    "\n",
    "print(\"The string after replacing : \" + str(repl)) "
   ]
  },
  {
   "cell_type": "code",
   "execution_count": null,
   "id": "935e1393",
   "metadata": {},
   "outputs": [],
   "source": []
  },
  {
   "cell_type": "code",
   "execution_count": null,
   "id": "b723cd65",
   "metadata": {},
   "outputs": [],
   "source": []
  }
 ],
 "metadata": {
  "kernelspec": {
   "display_name": "Python 3",
   "language": "python",
   "name": "python3"
  },
  "language_info": {
   "codemirror_mode": {
    "name": "ipython",
    "version": 3
   },
   "file_extension": ".py",
   "mimetype": "text/x-python",
   "name": "python",
   "nbconvert_exporter": "python",
   "pygments_lexer": "ipython3",
   "version": "3.8.8"
  }
 },
 "nbformat": 4,
 "nbformat_minor": 5
}
