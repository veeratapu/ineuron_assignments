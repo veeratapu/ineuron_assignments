{
 "cells": [
  {
   "cell_type": "code",
   "execution_count": null,
   "id": "43225d95",
   "metadata": {},
   "outputs": [],
   "source": [
    "import numpy as np"
   ]
  },
  {
   "cell_type": "markdown",
   "id": "280dab04",
   "metadata": {},
   "source": [
    "# 1.Python program to add two Matrices"
   ]
  },
  {
   "cell_type": "code",
   "execution_count": 8,
   "id": "4f20956c",
   "metadata": {},
   "outputs": [
    {
     "data": {
      "text/plain": [
       "array([ 8, 10, 12, 14, 16, 18])"
      ]
     },
     "execution_count": 8,
     "metadata": {},
     "output_type": "execute_result"
    }
   ],
   "source": [
    "import numpy as np\n",
    "a = np.array([1,2,3,4,5,6])\n",
    "b = np.array([7,8,9,10,11,12])\n",
    "s = np.add(a,b)\n",
    "s"
   ]
  },
  {
   "cell_type": "markdown",
   "id": "c0f2d0b5",
   "metadata": {},
   "source": [
    "# 2. Python program to multiply two matrices"
   ]
  },
  {
   "cell_type": "code",
   "execution_count": 12,
   "id": "5a6bd71b",
   "metadata": {},
   "outputs": [
    {
     "data": {
      "text/plain": [
       "array([[27, 30],\n",
       "       [61, 68]])"
      ]
     },
     "execution_count": 12,
     "metadata": {},
     "output_type": "execute_result"
    }
   ],
   "source": [
    "a = np.array([[1,2],\n",
    "              [3,4]])\n",
    "b = np.array([[7,8],\n",
    "              [10,11]])\n",
    "m = a@b\n",
    "m"
   ]
  },
  {
   "cell_type": "markdown",
   "id": "b3f46b63",
   "metadata": {},
   "source": [
    "# 3.\tPython program for Matrix Product"
   ]
  },
  {
   "cell_type": "code",
   "execution_count": null,
   "id": "7d4668f9",
   "metadata": {},
   "outputs": [],
   "source": [
    "a = np.array([[1,2],\n",
    "              [3,4]])\n",
    "b = np.array([[7,8],\n",
    "              [10,11]])\n",
    "m = a@b\n",
    "m"
   ]
  },
  {
   "cell_type": "markdown",
   "id": "81832ff0",
   "metadata": {},
   "source": [
    "# 4.Adding and Subtracting Matrices in Python"
   ]
  },
  {
   "cell_type": "code",
   "execution_count": 15,
   "id": "1240d4ba",
   "metadata": {},
   "outputs": [
    {
     "data": {
      "text/plain": [
       "(array([[ 8, 10],\n",
       "        [13, 15]]),\n",
       " array([[-6, -6],\n",
       "        [-7, -7]]))"
      ]
     },
     "execution_count": 15,
     "metadata": {},
     "output_type": "execute_result"
    }
   ],
   "source": [
    "a = np.array([[1,2],\n",
    "              [3,4]])\n",
    "b = np.array([[7,8],\n",
    "              [10,11]])\n",
    "t = np.add(a,b)\n",
    "s = a - b\n",
    "t,s"
   ]
  },
  {
   "cell_type": "markdown",
   "id": "fd6a56e3",
   "metadata": {},
   "source": [
    "# 5.Transpose a matrix in Single line in Python"
   ]
  },
  {
   "cell_type": "code",
   "execution_count": 17,
   "id": "0a176346",
   "metadata": {},
   "outputs": [
    {
     "data": {
      "text/plain": [
       "array([[1, 3],\n",
       "       [2, 4]])"
      ]
     },
     "execution_count": 17,
     "metadata": {},
     "output_type": "execute_result"
    }
   ],
   "source": [
    "a = np.array([[1,2],\n",
    "              [3,4]])\n",
    "transpose = a.T\n",
    "transpose"
   ]
  },
  {
   "cell_type": "markdown",
   "id": "d0336536",
   "metadata": {},
   "source": [
    "# 6.Python  Matrix creation of n*n"
   ]
  },
  {
   "cell_type": "code",
   "execution_count": 19,
   "id": "184ba3c2",
   "metadata": {},
   "outputs": [
    {
     "data": {
      "text/plain": [
       "array([[ 0,  1,  2,  3,  4],\n",
       "       [ 5,  6,  7,  8,  9],\n",
       "       [10, 11, 12, 13, 14],\n",
       "       [15, 16, 17, 18, 19]])"
      ]
     },
     "execution_count": 19,
     "metadata": {},
     "output_type": "execute_result"
    }
   ],
   "source": [
    "m = np.arange(0,20).reshape(4,5)\n",
    "m"
   ]
  },
  {
   "cell_type": "markdown",
   "id": "e0cc2975",
   "metadata": {},
   "source": [
    "# 7.Python -- Get Kth Column of Matrix"
   ]
  },
  {
   "cell_type": "code",
   "execution_count": 23,
   "id": "edfb4382",
   "metadata": {},
   "outputs": [
    {
     "name": "stdout",
     "output_type": "stream",
     "text": [
      "[[ 0  1  2  3  4]\n",
      " [ 5  6  7  8  9]\n",
      " [10 11 12 13 14]\n",
      " [15 16 17 18 19]]\n"
     ]
    },
    {
     "data": {
      "text/plain": [
       "array([ 0,  5, 10, 15])"
      ]
     },
     "execution_count": 23,
     "metadata": {},
     "output_type": "execute_result"
    }
   ],
   "source": [
    "m = np.arange(0,20).reshape(4,5)\n",
    "print(m)\n",
    "m[:,0]"
   ]
  },
  {
   "cell_type": "markdown",
   "id": "f4633c7e",
   "metadata": {},
   "source": [
    "# 8.Python – Vertical Concatenation in Matrix"
   ]
  },
  {
   "cell_type": "code",
   "execution_count": 26,
   "id": "5292c6bb",
   "metadata": {},
   "outputs": [
    {
     "data": {
      "text/plain": [
       "array([[ 1,  2],\n",
       "       [ 3,  4],\n",
       "       [ 7,  8],\n",
       "       [10, 11]])"
      ]
     },
     "execution_count": 26,
     "metadata": {},
     "output_type": "execute_result"
    }
   ],
   "source": [
    "a = np.array([[1,2],\n",
    "              [3,4]])\n",
    "b = np.array([[7,8],\n",
    "              [10,11]])\n",
    "v_s = np.vstack((a,b))\n",
    "v_s"
   ]
  },
  {
   "cell_type": "markdown",
   "id": "b03e2869",
   "metadata": {},
   "source": [
    "# 9.Python program to check if a string is palindrome or not"
   ]
  },
  {
   "cell_type": "code",
   "execution_count": 33,
   "id": "07aaac59",
   "metadata": {},
   "outputs": [
    {
     "name": "stdout",
     "output_type": "stream",
     "text": [
      "Enter a string :abba\n",
      "String is a Palindrome\n"
     ]
    }
   ],
   "source": [
    "s = input('Enter a string :')\n",
    "\n",
    "if s == s[::-1]:\n",
    "    print('String is a Palindrome')\n",
    "else:\n",
    "    print('String is Not a Palindrome')\n",
    "    "
   ]
  },
  {
   "cell_type": "markdown",
   "id": "13ad91c0",
   "metadata": {},
   "source": [
    "# 10.Python program to check whether the string is Symmetrical or Palindrome"
   ]
  },
  {
   "cell_type": "code",
   "execution_count": 34,
   "id": "81455838",
   "metadata": {},
   "outputs": [
    {
     "name": "stdout",
     "output_type": "stream",
     "text": [
      "Enter a string :1221\n",
      "String is a Palindrome\n"
     ]
    }
   ],
   "source": [
    "s = input('Enter a string :')\n",
    "\n",
    "if s == s[::-1]:\n",
    "    print('String is a Palindrome')\n",
    "else:\n",
    "    print('String is Not a Palindrome')\n",
    "    "
   ]
  },
  {
   "cell_type": "code",
   "execution_count": null,
   "id": "deedc50c",
   "metadata": {},
   "outputs": [],
   "source": []
  }
 ],
 "metadata": {
  "kernelspec": {
   "display_name": "Python 3",
   "language": "python",
   "name": "python3"
  },
  "language_info": {
   "codemirror_mode": {
    "name": "ipython",
    "version": 3
   },
   "file_extension": ".py",
   "mimetype": "text/x-python",
   "name": "python",
   "nbconvert_exporter": "python",
   "pygments_lexer": "ipython3",
   "version": "3.8.8"
  }
 },
 "nbformat": 4,
 "nbformat_minor": 5
}
