{
 "cells": [
  {
   "cell_type": "markdown",
   "id": "2239ae39",
   "metadata": {},
   "source": [
    "# 1. Python – Replace multiple words with K"
   ]
  },
  {
   "cell_type": "code",
   "execution_count": 3,
   "id": "fe04bb2c",
   "metadata": {},
   "outputs": [
    {
     "name": "stdout",
     "output_type": "stream",
     "text": [
      "Satish is learning Python. Satish is working on Assignments.\n",
      "String after  replacing : k is learning Python. k is k on Assignments.\n"
     ]
    }
   ],
   "source": [
    "string = 'Satish is learning Python. Satish is working on Assignments.'\n",
    "print(string)\n",
    "  \n",
    "words = ['Satish','learing','working']\n",
    "re_word = 'k'\n",
    "string_new = ' '.join([re_word if i in words else i for i in string.split()])\n",
    "  \n",
    "print(\"String after  replacing : \" + str(string_new))"
   ]
  },
  {
   "cell_type": "markdown",
   "id": "11ba0cb9",
   "metadata": {},
   "source": [
    "# 2. Python | Permutation of a given string using inbuilt function"
   ]
  },
  {
   "cell_type": "code",
   "execution_count": 4,
   "id": "9c9a75f8",
   "metadata": {},
   "outputs": [
    {
     "name": "stdout",
     "output_type": "stream",
     "text": [
      "abcd\n",
      "abdc\n",
      "acbd\n",
      "acdb\n",
      "adbc\n",
      "adcb\n",
      "bacd\n",
      "badc\n",
      "bcad\n",
      "bcda\n",
      "bdac\n",
      "bdca\n",
      "cabd\n",
      "cadb\n",
      "cbad\n",
      "cbda\n",
      "cdab\n",
      "cdba\n",
      "dabc\n",
      "dacb\n",
      "dbac\n",
      "dbca\n",
      "dcab\n",
      "dcba\n"
     ]
    }
   ],
   "source": [
    "from itertools import permutations\n",
    "import string\n",
    "  \n",
    "s = \"abcd\"\n",
    "a = string.ascii_letters\n",
    "p = permutations(s)\n",
    "  \n",
    "\n",
    "n = []\n",
    "for i in list(p):\n",
    "  \n",
    "    \n",
    "    if (i not in n):\n",
    "        n.append(i)\n",
    "        print(''.join(i))"
   ]
  },
  {
   "cell_type": "markdown",
   "id": "c812361c",
   "metadata": {},
   "source": [
    "# 3.Python | Check for URL in a String"
   ]
  },
  {
   "cell_type": "code",
   "execution_count": 6,
   "id": "df27705f",
   "metadata": {},
   "outputs": [
    {
     "name": "stdout",
     "output_type": "stream",
     "text": [
      "Urls:  ['https://www.google.com']\n"
     ]
    }
   ],
   "source": [
    "import re\n",
    "  \n",
    "def check(string):\n",
    "  \n",
    "    \n",
    "    regex = r\"(?i)\\b((?:https?://|www\\d{0,3}[.]|[a-z0-9.\\-]+[.][a-z]{2,4}/)(?:[^\\s()<>]+|\\(([^\\s()<>]+|(\\([^\\s()<>]+\\)))*\\))+(?:\\(([^\\s()<>]+|(\\([^\\s()<>]+\\)))*\\)|[^\\s`!()\\[\\]{};:'\\\".,<>?«»“”‘’]))\"\n",
    "    url = re.findall(regex,string)      \n",
    "    return [x[0] for x in url]\n",
    "      \n",
    "\n",
    "string = 'My Profile: https://www.google.com'\n",
    "print(\"Urls: \", check(string))"
   ]
  },
  {
   "cell_type": "markdown",
   "id": "6523b290",
   "metadata": {},
   "source": [
    "# 4. Execute a String of Code in Python"
   ]
  },
  {
   "cell_type": "code",
   "execution_count": 14,
   "id": "4f0ed480",
   "metadata": {},
   "outputs": [
    {
     "name": "stdout",
     "output_type": "stream",
     "text": [
      "120\n"
     ]
    }
   ],
   "source": [
    "def exec_code():\n",
    "    LOC = \"\"\"\n",
    "def factorial(num):\n",
    "    fact=1\n",
    "    for i in range(1,num+1):\n",
    "        fact = fact*i\n",
    "    return fact\n",
    "print(factorial(5))\n",
    "\"\"\"\n",
    "    exec(LOC)\n",
    "     \n",
    "\n",
    "exec_code()"
   ]
  },
  {
   "cell_type": "markdown",
   "id": "16941759",
   "metadata": {},
   "source": [
    "# 5.String slicing in Python to rotate a string"
   ]
  },
  {
   "cell_type": "code",
   "execution_count": 19,
   "id": "d74e7c41",
   "metadata": {},
   "outputs": [
    {
     "name": "stdout",
     "output_type": "stream",
     "text": [
      "Enter a Stringxtfuxhfgyhtfgtuchj\n",
      "enter a index at which break should take place:7\n",
      "Left Rotation :  gyhtfgtuchjxtfuxhf\n",
      "Right Rotation :  fgtuchjxtfuxhfgyht\n"
     ]
    }
   ],
   "source": [
    "s = input('Enter a String')\n",
    "d = int(input('enter a index at which break should take place:'))\n",
    "l_first = s[0 : d] \n",
    "l_second = s[d :] \n",
    "r_first = s[0 : len(s)-d] \n",
    "r_second = s[len(s)-d : ] \n",
    "  \n",
    "\n",
    "print (\"Left Rotation : \", (l_second + l_first) )\n",
    "print (\"Right Rotation : \", (r_second + r_first)) "
   ]
  },
  {
   "cell_type": "markdown",
   "id": "0ecb15ec",
   "metadata": {},
   "source": [
    "# 6.\tString slicing in Python to check if a string can become empty by recursive deletion"
   ]
  },
  {
   "cell_type": "code",
   "execution_count": 20,
   "id": "45b79d1a",
   "metadata": {},
   "outputs": [
    {
     "name": "stdout",
     "output_type": "stream",
     "text": [
      "false\n"
     ]
    }
   ],
   "source": [
    "def check(input, pattern): \n",
    "        \n",
    "      \n",
    "    if len(input)== 0 and len(pattern)== 0: \n",
    "         return 'true'\n",
    "    \n",
    "    \n",
    "    if len(pattern)== 0: \n",
    "         return 'true'\n",
    "    \n",
    "    while (len(input) != 0): \n",
    "  \n",
    "        \n",
    "        index = input.find(pattern) \n",
    "  \n",
    "         \n",
    "        if (index ==(-1)): \n",
    "          return 'false'\n",
    "  \n",
    "         \n",
    "        input = input[0:index] + input[index + len(pattern):]              \n",
    "  \n",
    "    return 'true'\n",
    "    \n",
    "\n",
    "if __name__ == \"__main__\": \n",
    "    input ='satish'\n",
    "    pattern ='python'\n",
    "    print (check(input, pattern))"
   ]
  },
  {
   "cell_type": "markdown",
   "id": "ecfe3e24",
   "metadata": {},
   "source": [
    "# 7. Python Counter| Find all duplicate characters in string"
   ]
  },
  {
   "cell_type": "code",
   "execution_count": 22,
   "id": "48fbcc93",
   "metadata": {},
   "outputs": [
    {
     "name": "stdout",
     "output_type": "stream",
     "text": [
      "['i', 'p', 's']\n"
     ]
    }
   ],
   "source": [
    "s = \"Missisippi\"\n",
    "\n",
    "duplicates = []\n",
    "for char in string:\n",
    "    if s.count(char) > 1:\n",
    "        if char not in duplicates:\n",
    "            duplicates.append(char)\n",
    "print(duplicates)"
   ]
  },
  {
   "cell_type": "markdown",
   "id": "97ed5308",
   "metadata": {},
   "source": [
    "# 8. Python – Replace all occurrences of a substring in a string"
   ]
  },
  {
   "cell_type": "code",
   "execution_count": 28,
   "id": "100ff204",
   "metadata": {},
   "outputs": [
    {
     "name": "stdout",
     "output_type": "stream",
     "text": [
      "The actual string is : MissisippiBanana\n",
      "The string after swap : MiaaiaippiBanana\n"
     ]
    }
   ],
   "source": [
    "s = \"MissisippiBanana\"\n",
    "  \n",
    "\n",
    "print(\"The actual string is : \" + s)\n",
    "  \n",
    "\n",
    "te = str.maketrans(\"ss\",\"aa\")\n",
    "s = s.translate(te)\n",
    "  \n",
    "\n",
    "print(\"The string after swap : \" + str(s))"
   ]
  },
  {
   "cell_type": "markdown",
   "id": "0ef1e227",
   "metadata": {},
   "source": [
    "# 9. Python – Extract Unique values dictionary values"
   ]
  },
  {
   "cell_type": "code",
   "execution_count": 33,
   "id": "d9344786",
   "metadata": {},
   "outputs": [
    {
     "name": "stdout",
     "output_type": "stream",
     "text": [
      "The unique values : [1, 5, 6, 7, 8, 10, 12, 24, 26, 55, 57, 510]\n"
     ]
    }
   ],
   "source": [
    "di = {'a' : [1, 6,57, 8],\n",
    "             'b' : [10, 24, 7, 5],\n",
    "             'c' : [55, 12,510, 8],\n",
    "             'd' : [5, 26, 5]}\n",
    "  \n",
    "\n",
    "\n",
    "new = list(sorted({e for v in di.values() for e in v}))\n",
    "  \n",
    "\n",
    "print(\"The unique values : \" + str(new)) "
   ]
  },
  {
   "cell_type": "markdown",
   "id": "67745992",
   "metadata": {},
   "source": [
    "# 10. Python program to find the sum of all items in a dictionary"
   ]
  },
  {
   "cell_type": "code",
   "execution_count": 39,
   "id": "bfa0bb38",
   "metadata": {},
   "outputs": [
    {
     "name": "stdout",
     "output_type": "stream",
     "text": [
      "sum of values is 721\n"
     ]
    }
   ],
   "source": [
    "di = {'a' : [1, 6,57, 8],\n",
    "             'b' : [10, 24, 7, 5],\n",
    "             'c' : [55, 12,510, 8],\n",
    "             'd' : [5, 26, 5]}\n",
    "new = list(sorted({e for v in di.values() for e in v}))\n",
    "sum(new)\n",
    "print(f'sum of values is {sum(new)}')"
   ]
  },
  {
   "cell_type": "code",
   "execution_count": null,
   "id": "9030265b",
   "metadata": {},
   "outputs": [],
   "source": []
  },
  {
   "cell_type": "code",
   "execution_count": null,
   "id": "cc49ab80",
   "metadata": {},
   "outputs": [],
   "source": []
  }
 ],
 "metadata": {
  "kernelspec": {
   "display_name": "Python 3",
   "language": "python",
   "name": "python3"
  },
  "language_info": {
   "codemirror_mode": {
    "name": "ipython",
    "version": 3
   },
   "file_extension": ".py",
   "mimetype": "text/x-python",
   "name": "python",
   "nbconvert_exporter": "python",
   "pygments_lexer": "ipython3",
   "version": "3.8.8"
  }
 },
 "nbformat": 4,
 "nbformat_minor": 5
}
