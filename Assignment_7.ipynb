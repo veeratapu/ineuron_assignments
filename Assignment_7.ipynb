{
 "cells": [
  {
   "cell_type": "markdown",
   "id": "a32e8cb1",
   "metadata": {},
   "source": [
    "# 1. Reverse words in a given String in Python"
   ]
  },
  {
   "cell_type": "code",
   "execution_count": 6,
   "id": "842e0319",
   "metadata": {},
   "outputs": [
    {
     "name": "stdout",
     "output_type": "stream",
     "text": [
      "Enter a String:a ab abc abcd\n",
      "Reversed String is ['abcd', 'abc', 'ab', 'a']\n"
     ]
    }
   ],
   "source": [
    "s = input('Enter a String:').split()\n",
    "rev_str = s[::-1]\n",
    "print(f'Reversed String is {(rev_str)}')"
   ]
  },
  {
   "cell_type": "markdown",
   "id": "59a3ac4d",
   "metadata": {},
   "source": [
    "# 2. Waysto remove i’th character from string in Python"
   ]
  },
  {
   "cell_type": "code",
   "execution_count": 8,
   "id": "8ded6afa",
   "metadata": {},
   "outputs": [
    {
     "name": "stdout",
     "output_type": "stream",
     "text": [
      "Enter a String:abcde\n",
      "Enter the Index value to be removed2\n",
      "String after removing particular element is: abde\n"
     ]
    }
   ],
   "source": [
    "s = input('Enter a String:')\n",
    "i = int(input('Enter the Index value to be removed'))\n",
    "s_ = s.replace(s[i],'')\n",
    "print(f'String after removing particular element is: {s_}')"
   ]
  },
  {
   "cell_type": "markdown",
   "id": "34df413a",
   "metadata": {},
   "source": [
    "# 3. Python | Check if a Substring is Present in a Given String"
   ]
  },
  {
   "cell_type": "code",
   "execution_count": 10,
   "id": "10befd68",
   "metadata": {},
   "outputs": [
    {
     "name": "stdout",
     "output_type": "stream",
     "text": [
      "Enter a String:abc def\n",
      "enter part of string to be checked: cd\n",
      "cd is not present in abc def\n"
     ]
    }
   ],
   "source": [
    "s = input('Enter a String:')\n",
    "c = input('enter part of string to be checked: ')\n",
    "if c in s:\n",
    "    print(f'{c} is present in {s}')\n",
    "else:\n",
    "    print(f'{c} is not present in {s}')"
   ]
  },
  {
   "cell_type": "markdown",
   "id": "2ed5b4ac",
   "metadata": {},
   "source": [
    "# 4.Python – Words Frequency in String Shorthands"
   ]
  },
  {
   "cell_type": "code",
   "execution_count": 12,
   "id": "10326bd5",
   "metadata": {},
   "outputs": [
    {
     "name": "stdout",
     "output_type": "stream",
     "text": [
      "Enter a String:abc defg hjkl\n",
      "Words in the string\n",
      "Counter({'abc': 1, 'defg': 1, 'hjkl': 1})\n"
     ]
    }
   ],
   "source": [
    "from collections import Counter\n",
    "s = input('Enter a String:')\n",
    "\n",
    "word = Counter(s.split())\n",
    "# print result\n",
    "print(\"Words in the string\")\n",
    "print(word)"
   ]
  },
  {
   "cell_type": "markdown",
   "id": "842504de",
   "metadata": {},
   "source": [
    "# 5. Python – Convert Snake case to Pascal case"
   ]
  },
  {
   "cell_type": "code",
   "execution_count": 18,
   "id": "2ba216e6",
   "metadata": {},
   "outputs": [
    {
     "name": "stdout",
     "output_type": "stream",
     "text": [
      "Enter a String in snake string:abc_def_ghi\n"
     ]
    },
    {
     "data": {
      "text/plain": [
       "'AbcDefGhi'"
      ]
     },
     "execution_count": 18,
     "metadata": {},
     "output_type": "execute_result"
    }
   ],
   "source": [
    "s = input('Enter a String in snake string:')\n",
    "p = s.replace('_',' ').title()\n",
    "\n",
    "p = p.replace(' ','')\n",
    "p"
   ]
  },
  {
   "cell_type": "markdown",
   "id": "0dd88313",
   "metadata": {},
   "source": [
    "# 6.Find length of a string in python (4 ways)"
   ]
  },
  {
   "cell_type": "code",
   "execution_count": 19,
   "id": "6d6a82f8",
   "metadata": {},
   "outputs": [
    {
     "name": "stdout",
     "output_type": "stream",
     "text": [
      "Enter a String in snake string:abcdef\n",
      "Length of abcdef is 6\n"
     ]
    }
   ],
   "source": [
    "s = input('Enter a String in snake string:')\n",
    "l = 0\n",
    "for i in range(0,len(s)):\n",
    "    l += 1\n",
    "print(f'Length of {s} is {l}')"
   ]
  },
  {
   "cell_type": "code",
   "execution_count": 20,
   "id": "8fc67d0d",
   "metadata": {},
   "outputs": [
    {
     "name": "stdout",
     "output_type": "stream",
     "text": [
      "Enter a String in snake string:abcdef\n",
      "Length of abcdef is 6\n"
     ]
    }
   ],
   "source": [
    "s = input('Enter a String in snake string:')\n",
    "l = len(s)\n",
    "print(f'Length of {s} is {l}')"
   ]
  },
  {
   "cell_type": "code",
   "execution_count": 25,
   "id": "61b533a5",
   "metadata": {},
   "outputs": [
    {
     "name": "stdout",
     "output_type": "stream",
     "text": [
      "9\n"
     ]
    }
   ],
   "source": [
    "def string_Length(string): \n",
    "    count = 0\n",
    "    while str[count:]: \n",
    "        count += 1\n",
    "    return count \n",
    "    \n",
    "string = \"abcdefghi\"\n",
    "print(stringLength(string))"
   ]
  },
  {
   "cell_type": "code",
   "execution_count": 26,
   "id": "8af3459c",
   "metadata": {},
   "outputs": [
    {
     "name": "stdout",
     "output_type": "stream",
     "text": [
      "8\n"
     ]
    }
   ],
   "source": [
    "def length(str):\n",
    "    if not str:\n",
    "        return 0\n",
    "    else:\n",
    "        some_random_string = 'sat'\n",
    "        return ((some_random_string).join(str)).count(some_random_string) + 1\n",
    " \n",
    "str = \"abcdefgh\"\n",
    "print(length(str))"
   ]
  },
  {
   "cell_type": "markdown",
   "id": "1550938b",
   "metadata": {},
   "source": [
    "# 7. Python program to print even length words in a string"
   ]
  },
  {
   "cell_type": "code",
   "execution_count": 29,
   "id": "d037039e",
   "metadata": {},
   "outputs": [
    {
     "name": "stdout",
     "output_type": "stream",
     "text": [
      "Enter a String :a ab abc abcd abcdef\n",
      "Even length words in list: ['ab', 'abcd', 'abcdef']\n"
     ]
    }
   ],
   "source": [
    "s = input('Enter a String :').split()\n",
    "l = []\n",
    "for i in range(0,len(s)):\n",
    "    if len(s[i]) % 2 == 0:\n",
    "        l.append(s[i])\n",
    "        \n",
    "print(f'Even length words in list: {l}')\n",
    "        "
   ]
  },
  {
   "cell_type": "markdown",
   "id": "c5d2f72d",
   "metadata": {},
   "source": [
    "# 8.Python program to accept the strings which contains all vowels"
   ]
  },
  {
   "cell_type": "code",
   "execution_count": 1,
   "id": "518caafa",
   "metadata": {},
   "outputs": [
    {
     "name": "stdout",
     "output_type": "stream",
     "text": [
      "Enter the String of characters: abf\n",
      "The string is Not Accepted\n"
     ]
    }
   ],
   "source": [
    "def check(string):  \n",
    "    if len (set (string.lower()).intersection(\"aeiou\")) >= 5:  \n",
    "        return (\"The string is Accepted\")  \n",
    "    else:  \n",
    "        return (\"The string is Not Accepted\")  \n",
    "   \n",
    "   \n",
    "# Driver code  \n",
    "if __name__ == \"__main__\":  \n",
    "    string = str (input (\"Enter the String of characters: \"))  \n",
    "    print (check(string))  "
   ]
  },
  {
   "cell_type": "markdown",
   "id": "cfffa3ee",
   "metadata": {},
   "source": [
    "# 9. Python --  Count the Number of matching characters in a pair of string"
   ]
  },
  {
   "cell_type": "code",
   "execution_count": 8,
   "id": "5f51ec41",
   "metadata": {},
   "outputs": [
    {
     "name": "stdout",
     "output_type": "stream",
     "text": [
      "Enter a String :fgdh\n",
      "Enter a String :fghtj\n",
      "Number of Common Characters:3\n"
     ]
    }
   ],
   "source": [
    "s1 = set(input('Enter a String :'))\n",
    "s2 = set(input('Enter a String :'))\n",
    "common = s1 & s2\n",
    "print(f'Number of Common Characters:{len(common)}')"
   ]
  },
  {
   "cell_type": "markdown",
   "id": "9050ab6c",
   "metadata": {},
   "source": [
    "# 10. Remove all duplicates from a given string in Python"
   ]
  },
  {
   "cell_type": "code",
   "execution_count": 30,
   "id": "3fb1f8a7",
   "metadata": {},
   "outputs": [
    {
     "name": "stdout",
     "output_type": "stream",
     "text": [
      "rftsjtrd\n",
      "After removing duplicates:  rftsjd\n",
      "None\n"
     ]
    }
   ],
   "source": [
    "from collections import OrderedDict\n",
    "\n",
    "def removing_duplicate(s):\n",
    "    s1=set(s)\n",
    "    s1=\"\".join(s1)\n",
    "    d=\"\"\n",
    "    for i in s:\n",
    "        if(i in d):\n",
    "            pass\n",
    "        else:\n",
    "            d=d+i\n",
    "    print(\"After removing duplicates: \",d)\n",
    "    \n",
    "s=\"rftsjtrd\"\n",
    "print(s)\n",
    "print(removing_duplicate(s))\n"
   ]
  },
  {
   "cell_type": "code",
   "execution_count": null,
   "id": "b1109370",
   "metadata": {},
   "outputs": [],
   "source": []
  }
 ],
 "metadata": {
  "kernelspec": {
   "display_name": "Python 3",
   "language": "python",
   "name": "python3"
  },
  "language_info": {
   "codemirror_mode": {
    "name": "ipython",
    "version": 3
   },
   "file_extension": ".py",
   "mimetype": "text/x-python",
   "name": "python",
   "nbconvert_exporter": "python",
   "pygments_lexer": "ipython3",
   "version": "3.8.8"
  }
 },
 "nbformat": 4,
 "nbformat_minor": 5
}
