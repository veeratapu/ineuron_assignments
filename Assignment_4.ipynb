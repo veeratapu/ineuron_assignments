{
 "cells": [
  {
   "cell_type": "markdown",
   "id": "f736cc17",
   "metadata": {},
   "source": [
    "# 1.Python program to find smallest number in a list"
   ]
  },
  {
   "cell_type": "code",
   "execution_count": 1,
   "id": "b8577c9a",
   "metadata": {},
   "outputs": [
    {
     "name": "stdout",
     "output_type": "stream",
     "text": [
      "Minimum Number in the list is 1\n"
     ]
    }
   ],
   "source": [
    "list1 = [1,2,3,4,5,6]\n",
    "\n",
    "mini = list1[0]\n",
    "\n",
    "for i in range(0,len(list1)):\n",
    "    if list1[i] < mini:\n",
    "        mini = list1[i]\n",
    "\n",
    "print(f'Minimum Number in the list is {mini}')"
   ]
  },
  {
   "cell_type": "markdown",
   "id": "e63d37cd",
   "metadata": {},
   "source": [
    "# 2.Python program to find largest number in a list"
   ]
  },
  {
   "cell_type": "code",
   "execution_count": null,
   "id": "f82febb6",
   "metadata": {},
   "outputs": [],
   "source": [
    "list1 = [1,2,3,4,5,6]\n",
    "\n",
    "maxi = list1[0]\n",
    "\n",
    "for i in range(0,len(list1)):\n",
    "    if list1[i] > maxi:\n",
    "        maxi = list1[i]\n",
    "\n",
    "print(f'Maximum Number in the list is {maxi}')"
   ]
  },
  {
   "cell_type": "markdown",
   "id": "a2f3c49e",
   "metadata": {},
   "source": [
    "# 3.Python program to find second largest number in a list"
   ]
  },
  {
   "cell_type": "code",
   "execution_count": 4,
   "id": "d7414c03",
   "metadata": {},
   "outputs": [
    {
     "name": "stdout",
     "output_type": "stream",
     "text": [
      "Second highest number is the list is : 5\n"
     ]
    }
   ],
   "source": [
    "list1 = [1,2,3,4,5,6]\n",
    "\n",
    "maxi = max(list1[0],list1[1])\n",
    "second_maxi = min(list1[0],list1[1])\n",
    "for i in range(2,len(list1)):\n",
    "    if list1[i]>maxi:\n",
    "        second_maxi=maxi\n",
    "        maxi = list1[i]\n",
    "    else:\n",
    "        if list1[i]>secondmax:\n",
    "            second_maxi=list1[i]\n",
    "print(f\"Second highest number is the list is : {second_maxi}\")"
   ]
  },
  {
   "cell_type": "markdown",
   "id": "55e7563e",
   "metadata": {},
   "source": [
    "# 4.Python program to find N largest elements from a list"
   ]
  },
  {
   "cell_type": "code",
   "execution_count": 9,
   "id": "84febd7f",
   "metadata": {},
   "outputs": [
    {
     "name": "stdout",
     "output_type": "stream",
     "text": [
      "[85, 41]\n"
     ]
    }
   ],
   "source": [
    "list1 = [2, 6, 41, 85, 0, 3, 7, 6, 10]\n",
    "N = 2\n",
    "\n",
    "final_list = []\n",
    "\n",
    "for i in range(0, N):\n",
    "    max1 = 0\n",
    "\n",
    "    for j in range(len(list1)):\n",
    "        if list1[j] > max1:\n",
    "            max1 = list1[j]\n",
    "    list1.remove(max1)\n",
    "    final_list.append(max1)\n",
    "print(final_list)\n",
    "\n",
    "\n",
    "\n",
    "\n",
    "\n"
   ]
  },
  {
   "cell_type": "markdown",
   "id": "bcb660dc",
   "metadata": {},
   "source": [
    "# 5.Python program to print even numbers in a list"
   ]
  },
  {
   "cell_type": "code",
   "execution_count": 13,
   "id": "8144ccfa",
   "metadata": {},
   "outputs": [
    {
     "name": "stdout",
     "output_type": "stream",
     "text": [
      "Number of Elements in list: 5\n",
      "1\n",
      "2\n",
      "3\n",
      "4\n",
      "5\n",
      "Your list is : [1, 2, 3, 4, 5]\n",
      "[2, 4]\n"
     ]
    }
   ],
   "source": [
    "n = int(input('Number of Elements in list: '))\n",
    "\n",
    "list2 = []\n",
    "\n",
    "for i in range(0,n):\n",
    "    i = int(input())\n",
    "    list2.append(i)\n",
    "print(f'Your list is : {list2}')\n",
    "\n",
    "even_list = [i for i in list2 if i % 2 == 0]\n",
    "print(even_list)"
   ]
  },
  {
   "cell_type": "markdown",
   "id": "f5ad562c",
   "metadata": {},
   "source": [
    "# 6.Python program to print Odd numbers in a list"
   ]
  },
  {
   "cell_type": "code",
   "execution_count": 15,
   "id": "bdd060d7",
   "metadata": {},
   "outputs": [
    {
     "name": "stdout",
     "output_type": "stream",
     "text": [
      "Number of Elements in list: 5\n",
      "1\n",
      "2\n",
      "3\n",
      "4\n",
      "5\n",
      "Your list is : [1, 2, 3, 4, 5]\n",
      "[1, 3, 5]\n"
     ]
    }
   ],
   "source": [
    "n = int(input('Number of Elements in list: '))\n",
    "\n",
    "list2 = []\n",
    "\n",
    "for i in range(0,n):\n",
    "    i = int(input())\n",
    "    list2.append(i)\n",
    "print(f'Your list is : {list2}')\n",
    "\n",
    "odd_list = [i for i in list2 if i % 2 != 0]\n",
    "print(odd_list)"
   ]
  },
  {
   "cell_type": "markdown",
   "id": "e41edc6f",
   "metadata": {},
   "source": [
    "# 7.Python program to print all even numbers in a range"
   ]
  },
  {
   "cell_type": "code",
   "execution_count": 17,
   "id": "1253c88d",
   "metadata": {},
   "outputs": [
    {
     "name": "stdout",
     "output_type": "stream",
     "text": [
      "Enter the last value of the range: 9\n",
      "[0, 2, 4, 6, 8]\n"
     ]
    }
   ],
   "source": [
    "n = int(input('Enter the last value of the range: '))\n",
    "\n",
    "list2 = range(0,n+1)\n",
    "\n",
    "even_nums = [i for i in list2 if i % 2 == 0]\n",
    "print(even_nums)"
   ]
  },
  {
   "cell_type": "markdown",
   "id": "af0d4670",
   "metadata": {},
   "source": [
    "# 8.Python program to print all odd numbers in a range"
   ]
  },
  {
   "cell_type": "code",
   "execution_count": 18,
   "id": "2d6914f1",
   "metadata": {},
   "outputs": [
    {
     "name": "stdout",
     "output_type": "stream",
     "text": [
      "Enter the last value of the range: 9\n",
      "[1, 3, 5, 7, 9]\n"
     ]
    }
   ],
   "source": [
    "n = int(input('Enter the last value of the range: '))\n",
    "\n",
    "list2 = range(0,n+1)\n",
    "\n",
    "odd_nums = [i for i in list2 if i % 2 != 0]\n",
    "print(odd_nums)"
   ]
  },
  {
   "cell_type": "markdown",
   "id": "44d270d6",
   "metadata": {},
   "source": [
    "# 9.Python program to print positive numbers in a list"
   ]
  },
  {
   "cell_type": "code",
   "execution_count": 20,
   "id": "117c8d63",
   "metadata": {},
   "outputs": [
    {
     "name": "stdout",
     "output_type": "stream",
     "text": [
      "Number of Elements in list: 5\n",
      "-1\n",
      "-2\n",
      "3\n",
      "4\n",
      "5\n",
      "Your list is : [-1, -2, 3, 4, 5]\n",
      "Positive Numbers in the List are: [3, 4, 5]\n"
     ]
    }
   ],
   "source": [
    "n = int(input('Number of Elements in list: '))\n",
    "\n",
    "list2 = []\n",
    "\n",
    "for i in range(0,n):\n",
    "    i = int(input())\n",
    "    list2.append(i)\n",
    "print(f'Your list is : {list2}')\n",
    "\n",
    "positive_numbers = [i for i in list2 if i > 0]\n",
    "print(f'Positive Numbers in the List are: {positive_numbers}')"
   ]
  },
  {
   "cell_type": "markdown",
   "id": "31c852af",
   "metadata": {},
   "source": [
    "# 10.Python program to print Negative numbers in a list"
   ]
  },
  {
   "cell_type": "code",
   "execution_count": 22,
   "id": "36778dec",
   "metadata": {},
   "outputs": [
    {
     "name": "stdout",
     "output_type": "stream",
     "text": [
      "Number of Elements in list: 5\n",
      "-1\n",
      "-2\n",
      "-3\n",
      "4\n",
      "5\n",
      "Your list is : [-1, -2, -3, 4, 5]\n",
      "Negative Numbers in the List are: [-1, -2, -3]\n"
     ]
    }
   ],
   "source": [
    "n = int(input('Number of Elements in list: '))\n",
    "\n",
    "list2 = []\n",
    "\n",
    "for i in range(0,n):\n",
    "    i = int(input())\n",
    "    list2.append(i)\n",
    "print(f'Your list is : {list2}')\n",
    "\n",
    "negative_numbers = [i for i in list2 if i < 0]\n",
    "print(f'Negative Numbers in the List are: {negative_numbers}')"
   ]
  },
  {
   "cell_type": "markdown",
   "id": "a1467fa3",
   "metadata": {},
   "source": [
    "# 11.Python program to print all positive numbers in a range"
   ]
  },
  {
   "cell_type": "code",
   "execution_count": 23,
   "id": "98c6886f",
   "metadata": {},
   "outputs": [
    {
     "name": "stdout",
     "output_type": "stream",
     "text": [
      "Enter the last value of the range: 9\n",
      "[1, 2, 3, 4, 5, 6, 7, 8, 9]\n"
     ]
    }
   ],
   "source": [
    "n = int(input('Enter the last value of the range: '))\n",
    "\n",
    "list2 = range(0,n+1)\n",
    "\n",
    "positive_numbers = [i for i in list2 if i > 0]\n",
    "print(positive_numbers)"
   ]
  },
  {
   "cell_type": "code",
   "execution_count": null,
   "id": "6432f50a",
   "metadata": {},
   "outputs": [],
   "source": []
  }
 ],
 "metadata": {
  "kernelspec": {
   "display_name": "Python 3",
   "language": "python",
   "name": "python3"
  },
  "language_info": {
   "codemirror_mode": {
    "name": "ipython",
    "version": 3
   },
   "file_extension": ".py",
   "mimetype": "text/x-python",
   "name": "python",
   "nbconvert_exporter": "python",
   "pygments_lexer": "ipython3",
   "version": "3.8.8"
  }
 },
 "nbformat": 4,
 "nbformat_minor": 5
}
