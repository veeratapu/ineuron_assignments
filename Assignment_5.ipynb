{
 "cells": [
  {
   "cell_type": "markdown",
   "id": "ad555786",
   "metadata": {},
   "source": [
    "# 1.Python program to print all negative numbers in a range"
   ]
  },
  {
   "cell_type": "code",
   "execution_count": 2,
   "id": "e6984e52",
   "metadata": {},
   "outputs": [
    {
     "name": "stdout",
     "output_type": "stream",
     "text": [
      "Enter the last value of the range: 9\n",
      "[-9, -8, -7, -6, -5, -4, -3, -2, -1]\n"
     ]
    }
   ],
   "source": [
    "n = int(input('Enter the last value of the range: '))\n",
    "\n",
    "list2 = range(-n,n+1)\n",
    "\n",
    "negative_numbers = [i for i in list2 if i < 0]\n",
    "print(negative_numbers)"
   ]
  },
  {
   "cell_type": "markdown",
   "id": "1c165518",
   "metadata": {},
   "source": [
    "# 2.Remove multiple elements from a list in Python"
   ]
  },
  {
   "cell_type": "code",
   "execution_count": 9,
   "id": "c703230b",
   "metadata": {},
   "outputs": [
    {
     "name": "stdout",
     "output_type": "stream",
     "text": [
      "Number of Elements in list: 5\n",
      "0\n",
      "-1\n",
      "-2\n",
      "3\n",
      "4\n",
      "Your list is : [0, -1, -2, 3, 4]\n",
      "New List after performing some operations is: [0, -1, -2]\n"
     ]
    }
   ],
   "source": [
    "n = int(input('Number of Elements in list: '))\n",
    "\n",
    "list2 = []\n",
    "\n",
    "for i in range(0,n):\n",
    "    i = int(input())\n",
    "    list2.append(i)\n",
    "print(f'Your list is : {list2}')\n",
    "new_list = [i for i in list2 if i <= 2]\n",
    "\n",
    "print(f'New List after performing some operations is: {new_list}')"
   ]
  },
  {
   "cell_type": "markdown",
   "id": "c2130c23",
   "metadata": {},
   "source": [
    "# 3.write a Python program to Remove empty List from List"
   ]
  },
  {
   "cell_type": "code",
   "execution_count": 12,
   "id": "55a9f524",
   "metadata": {},
   "outputs": [
    {
     "name": "stdout",
     "output_type": "stream",
     "text": [
      "List after empty list(s) removal is : [-1, -2, 9, 0, 154]\n"
     ]
    }
   ],
   "source": [
    "initial_list = [-1,-2,[],[],9,0,154,[]]\n",
    "  \n",
    "final_list = [ele for ele in initial_list if ele != []]\n",
    "  \n",
    "\n",
    "print (f'List after empty list(s) removal is : {final_list}')"
   ]
  },
  {
   "cell_type": "markdown",
   "id": "b4e33021",
   "metadata": {},
   "source": [
    "# 4.write a Python program to Cloning or Copying a list"
   ]
  },
  {
   "cell_type": "code",
   "execution_count": 13,
   "id": "09bd741a",
   "metadata": {},
   "outputs": [
    {
     "name": "stdout",
     "output_type": "stream",
     "text": [
      "Copied List is [1, 3, 4, 6, 7, 90, 45, 67]\n"
     ]
    }
   ],
   "source": [
    "list1 = [1,3,4,6,7,90,45,67]\n",
    "copied_list = list1[:]\n",
    "print(f'Copied List is {copied_list}')"
   ]
  },
  {
   "cell_type": "markdown",
   "id": "51a8d305",
   "metadata": {},
   "source": [
    "# 5.write a Python program to Count occurrences of an element in a list"
   ]
  },
  {
   "cell_type": "code",
   "execution_count": 26,
   "id": "41df4a24",
   "metadata": {},
   "outputs": [
    {
     "name": "stdout",
     "output_type": "stream",
     "text": [
      "[1, 2, 3, 3, 3, 4, 4, 5, 5, 5, 5, 5, 57, 7, 7, 8, 8, 9, 910, 10, 101, 4, 5, 6, 78, 5, 67, 44, 3, 4, 5, 6, 7]\n",
      "Enter the Number whose occurence should be found5\n",
      "Occurence of 5 is 8 time(s)\n"
     ]
    }
   ],
   "source": [
    "list3 = [1,2,3,3,3,4,4,5,5,5,5,5,57,7,7,8,8,9,910,10,101,4,5,6,78,5,67,44,3,4,5,6,7]\n",
    "print(list3)\n",
    "\n",
    "n = int(input('Enter the Number whose occurence should be found'))\n",
    "count = 0\n",
    "\n",
    "for i in list3: \n",
    "    if i == n:\n",
    "        count += 1\n",
    "print(f'Occurence of {n} is {count} time(s)')\n",
    "        "
   ]
  },
  {
   "cell_type": "markdown",
   "id": "0ab172a1",
   "metadata": {},
   "source": [
    "# 6.write a Python program to Remove empty tuples from a list"
   ]
  },
  {
   "cell_type": "code",
   "execution_count": 27,
   "id": "eaa9f4a5",
   "metadata": {},
   "outputs": [
    {
     "name": "stdout",
     "output_type": "stream",
     "text": [
      "List after empty tuple(s) removal is : [-1, -2, 9, 0, 154]\n"
     ]
    }
   ],
   "source": [
    "initial_list = [-1,-2,(),(),9,0,154,()]\n",
    "  \n",
    "final_list = [ele for ele in initial_list if ele != ()]\n",
    "  \n",
    "\n",
    "print (f'List after empty tuple(s) removal is : {final_list}')"
   ]
  },
  {
   "cell_type": "markdown",
   "id": "30917c3c",
   "metadata": {},
   "source": [
    "# 7.write a Python program to Program to print duplicates from a list of integers"
   ]
  },
  {
   "cell_type": "code",
   "execution_count": 36,
   "id": "5cbaedad",
   "metadata": {},
   "outputs": [
    {
     "name": "stdout",
     "output_type": "stream",
     "text": [
      "[1, 2, 3, 4]\n"
     ]
    }
   ],
   "source": [
    "list5 = [1,1,2,2,3,3,4,4]\n",
    "l = len(list5)\n",
    "duplicates_list=[]\n",
    "\n",
    "for i in range(l):\n",
    "    k = i + 1\n",
    "    for j in range(k,l):\n",
    "        if list5[i] == list5[j] and list5[i] not in duplicates_list:\n",
    "            duplicates_list.append(list5[i])\n",
    "print(duplicates_list)\n"
   ]
  },
  {
   "cell_type": "markdown",
   "id": "a41103ec",
   "metadata": {},
   "source": [
    "# 8. write a Python program to find Cumulative sum of a list"
   ]
  },
  {
   "cell_type": "code",
   "execution_count": 37,
   "id": "5b47ced0",
   "metadata": {},
   "outputs": [
    {
     "name": "stdout",
     "output_type": "stream",
     "text": [
      "Sum of elements in list is: 16\n"
     ]
    }
   ],
   "source": [
    "list5 = [1,1,2,2,3,3,4,4]\n",
    "s = 0\n",
    "for i in list5:\n",
    "    s += list5[i]\n",
    "\n",
    "print(f'Sum of elements in list is: {s}')"
   ]
  },
  {
   "cell_type": "markdown",
   "id": "21401adb",
   "metadata": {},
   "source": [
    "# 9.write a Python program to Sum of number of digits in List"
   ]
  },
  {
   "cell_type": "code",
   "execution_count": 48,
   "id": "41e80ec6",
   "metadata": {},
   "outputs": [
    {
     "name": "stdout",
     "output_type": "stream",
     "text": [
      "[2, 5, 9, 13, 17, 22, 18]\n"
     ]
    }
   ],
   "source": [
    "list5 = [11,23,45,67,89,877,657]\n",
    "l = len(list5)\n",
    "result = []\n",
    "\n",
    "for i in list5:\n",
    "    s = 0\n",
    "    for digit in str(i):\n",
    "        s  += int(digit)\n",
    "    result.append(s)\n",
    "print(result)\n"
   ]
  },
  {
   "cell_type": "markdown",
   "id": "ad3926bb",
   "metadata": {},
   "source": [
    "# 10.Write a Python program to Break a list into chunks of size N "
   ]
  },
  {
   "cell_type": "code",
   "execution_count": 51,
   "id": "158d06a0",
   "metadata": {},
   "outputs": [
    {
     "name": "stdout",
     "output_type": "stream",
     "text": [
      "Enter the size of the List5\n",
      "Enter the number\n",
      "1\n",
      "2\n",
      "3\n",
      "4\n",
      "5\n",
      "[1, 2, 3, 4, 5]\n",
      "Enter Chunk Size2\n",
      "list with chunked list is : [[1, 2], [3, 4], [5]]\n"
     ]
    }
   ],
   "source": [
    "A=list()\n",
    "n =int(input(\"Enter the size of the List\"))\n",
    "print(\"Enter the number\")\n",
    "for i in range(int(n)):\n",
    "    p=int(input())\n",
    "    A.append(p)\n",
    "print (A)\n",
    "n=int(input(\"Enter Chunk Size\"))\n",
    "final_list = [A[i * n:(i + 1) * n] for i in range((len(A) + n - 1) // n )]\n",
    "print (f'list with chunked list is : {final_list}')"
   ]
  },
  {
   "cell_type": "markdown",
   "id": "02f9a5ae",
   "metadata": {},
   "source": [
    "# 11.\tWrite a Python program to Sort the values of first list using second list"
   ]
  },
  {
   "cell_type": "code",
   "execution_count": 63,
   "id": "80ce78ed",
   "metadata": {},
   "outputs": [
    {
     "name": "stdout",
     "output_type": "stream",
     "text": [
      "Please enter the Total Number of List Elements: 7\n",
      "Please enter the Value of 1 Element : 6\n",
      "Please enter the Value of 2 Element : 4\n",
      "Please enter the Value of 3 Element : 5\n",
      "Please enter the Value of 4 Element : 8\n",
      "Please enter the Value of 5 Element : 3\n",
      "Please enter the Value of 6 Element : 5\n",
      "Please enter the Value of 7 Element : 8\n",
      "Sorted List is [3, 4, 5, 5, 6, 8, 8]\n"
     ]
    }
   ],
   "source": [
    "second_list = []\n",
    "\n",
    "no = int(input(\"Please enter the Total Number of List Elements: \"))\n",
    "for i in range(1, no + 1):\n",
    "    value = int(input(\"Please enter the Value of %d Element : \" %i))\n",
    "    second_list.append(value)\n",
    "\n",
    "for i in range (no):\n",
    "    for j in range(i + 1, no):\n",
    "        if(second_list[i] > second_list[j]):\n",
    "            t = second_list[i]\n",
    "            second_list[i] = second_list[j]\n",
    "            second_list[j] = t\n",
    "print(f'Sorted List is {second_list}')"
   ]
  },
  {
   "cell_type": "markdown",
   "id": "2a935cc9",
   "metadata": {},
   "source": []
  }
 ],
 "metadata": {
  "kernelspec": {
   "display_name": "Python 3",
   "language": "python",
   "name": "python3"
  },
  "language_info": {
   "codemirror_mode": {
    "name": "ipython",
    "version": 3
   },
   "file_extension": ".py",
   "mimetype": "text/x-python",
   "name": "python",
   "nbconvert_exporter": "python",
   "pygments_lexer": "ipython3",
   "version": "3.8.8"
  }
 },
 "nbformat": 4,
 "nbformat_minor": 5
}
