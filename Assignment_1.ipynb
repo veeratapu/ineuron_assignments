{
 "cells": [
  {
   "cell_type": "markdown",
   "id": "caae5b94",
   "metadata": {},
   "source": [
    "# 1-- Program to find numbers divisible by 7 and multiple of 5"
   ]
  },
  {
   "cell_type": "code",
   "execution_count": 2,
   "id": "e4d70161",
   "metadata": {},
   "outputs": [
    {
     "name": "stdout",
     "output_type": "stream",
     "text": [
      "[1505, 1540, 1575, 1610, 1645, 1680, 1715, 1750, 1785, 1820, 1855, 1890, 1925, 1960, 1995, 2030, 2065, 2100, 2135, 2170, 2205, 2240, 2275, 2310, 2345, 2380, 2415, 2450, 2485, 2520, 2555, 2590, 2625, 2660, 2695]\n"
     ]
    }
   ],
   "source": [
    "\n",
    "multiples = []\n",
    "for num in range(1500,2700):\n",
    "    if num % 7 == 0 and num % 5 == 0:\n",
    "        multiples.append(num)\n",
    "print(multiples)\n",
    "    "
   ]
  },
  {
   "cell_type": "markdown",
   "id": "43102f45",
   "metadata": {},
   "source": [
    "#  2-- Program to  add Two Numbers"
   ]
  },
  {
   "cell_type": "code",
   "execution_count": 4,
   "id": "faeff4fa",
   "metadata": {},
   "outputs": [
    {
     "name": "stdout",
     "output_type": "stream",
     "text": [
      "Enter Value of x:70\n",
      "Enter Value of y:90\n",
      "addition of two x and y is 160.0\n"
     ]
    }
   ],
   "source": [
    "x = float(input('Enter Value of x:'))\n",
    "y = float(input('Enter Value of y:'))\n",
    "\n",
    "s = x + y\n",
    "print(f'addition of two x and y is {s}')"
   ]
  },
  {
   "cell_type": "markdown",
   "id": "0f0854a6",
   "metadata": {},
   "source": [
    "# 3-- Program to find Maximum of Two Numbers"
   ]
  },
  {
   "cell_type": "code",
   "execution_count": 5,
   "id": "1495953b",
   "metadata": {},
   "outputs": [
    {
     "name": "stdout",
     "output_type": "stream",
     "text": [
      "Enter first Number:50\n",
      "Enter second Number:70\n",
      "Maximum of two numbers is 70.0\n"
     ]
    }
   ],
   "source": [
    "n1 = float(input('Enter first Number:'))\n",
    "n2 = float(input('Enter second Number:'))\n",
    "\n",
    "if n1 > n2 :\n",
    "    print(f'Maximum of two numbers is {n1}')\n",
    "else:\n",
    "     print(f'Maximum of two numbers is {n2}')\n",
    "    "
   ]
  },
  {
   "cell_type": "markdown",
   "id": "d3cedd45",
   "metadata": {},
   "source": [
    "# 4-- Program to Find Factorial of a Number"
   ]
  },
  {
   "cell_type": "code",
   "execution_count": 14,
   "id": "80d4a51e",
   "metadata": {},
   "outputs": [
    {
     "name": "stdout",
     "output_type": "stream",
     "text": [
      "Enter the value of Number:5\n",
      "Factorial of Given Number is 120.0\n"
     ]
    }
   ],
   "source": [
    "n = float(input('Enter the value of Number:'))\n",
    "\n",
    "if n < 0 :\n",
    "    print('Please enter a positive number')\n",
    "elif n == 0 or n == 1 :\n",
    "    print('Factorial is 1')\n",
    "else :\n",
    "    factorial = 1\n",
    "    while n > 0:\n",
    "        factorial *= n\n",
    "        n  -= 1\n",
    "    print(f'Factorial of Given Number is {factorial}')    "
   ]
  },
  {
   "cell_type": "markdown",
   "id": "269e0ade",
   "metadata": {},
   "source": [
    "# 5-- Program to find Simple Interest"
   ]
  },
  {
   "cell_type": "code",
   "execution_count": 19,
   "id": "553c2c9f",
   "metadata": {},
   "outputs": [
    {
     "name": "stdout",
     "output_type": "stream",
     "text": [
      "Enter the Principal Amount in \"Rs\":1000\n",
      "Enter the Time Period in \"Years\":1\n",
      "Enter the Rate of Interest in \"Percentage\":10\n",
      "Simple Interest for the given Time Period in \"Rs\" is 100.0\n"
     ]
    }
   ],
   "source": [
    "p = float(input('Enter the Principal Amount in \"Rs\":'))\n",
    "t = float(input('Enter the Time Period in \"Years\":'))\n",
    "r = float(input('Enter the Rate of Interest in \"Percentage\":'))\n",
    "                \n",
    "simple_interest = (p * t * r)/100\n",
    "                \n",
    "print(f'Simple Interest for the given Time Period in \"Rs\" is {simple_interest}')"
   ]
  },
  {
   "cell_type": "markdown",
   "id": "eeb60f80",
   "metadata": {},
   "source": [
    "# 6-- Program to find Compound Interest"
   ]
  },
  {
   "cell_type": "code",
   "execution_count": 21,
   "id": "4026621c",
   "metadata": {},
   "outputs": [
    {
     "name": "stdout",
     "output_type": "stream",
     "text": [
      "Enter the Principal Amount in \"Rs\":1000\n",
      "Enter the Time Period in \"Years\":2\n",
      "Enter the Rate of Interest in \"Percentage\":10\n",
      "Compund Interest for the given Time Period in \"Rs\" is 210.00000000000023\n"
     ]
    }
   ],
   "source": [
    "p = float(input('Enter the Principal Amount in \"Rs\":'))\n",
    "t = float(input('Enter the Time Period in \"Years\":'))\n",
    "r = float(input('Enter the Rate of Interest in \"Percentage\":'))\n",
    "\n",
    "compound_interest =  ( p * ((1+(r/100)))**t ) - p\n",
    "\n",
    "print(f'Compund Interest for the given Time Period in \"Rs\" is {compound_interest}')\n"
   ]
  },
  {
   "cell_type": "markdown",
   "id": "713bf482",
   "metadata": {},
   "source": [
    "# 7-- Program to find the Armstrong Number"
   ]
  },
  {
   "cell_type": "code",
   "execution_count": 22,
   "id": "2420ef62",
   "metadata": {},
   "outputs": [
    {
     "name": "stdout",
     "output_type": "stream",
     "text": [
      "Enter the vlaue of Number:153\n",
      "153.0 is a Armstrong Number\n"
     ]
    }
   ],
   "source": [
    "a = float(input('Enter the vlaue of Number:'))\n",
    "\n",
    "s = 0\n",
    "z = a\n",
    "while( z!= 0):\n",
    "    r = z % 10\n",
    "    s += r*r*r\n",
    "    z = z // 10\n",
    "if s == a:\n",
    "    print(f'{a} is a Armstrong Number')\n",
    "else :\n",
    "    print(f'{a} is Not a Armstrong Number')\n",
    "    "
   ]
  },
  {
   "cell_type": "markdown",
   "id": "b6c4bb3e",
   "metadata": {},
   "source": [
    "# 8-- Program to find the Area of Circle"
   ]
  },
  {
   "cell_type": "code",
   "execution_count": 25,
   "id": "243574d6",
   "metadata": {},
   "outputs": [
    {
     "name": "stdout",
     "output_type": "stream",
     "text": [
      "Enter the radius in m:8\n",
      "Enter the diameter in m:16\n",
      "Area of Circle is 200.96 in sq.mts\n",
      "Area of Circle is 200.96 in sq.mts\n"
     ]
    }
   ],
   "source": [
    "r = float(input('Enter the radius in m:'))\n",
    "d = float(input('Enter the diameter in m:'))\n",
    "\n",
    "area_r = 3.14*r*r\n",
    "\n",
    "area_d = (3.14/4)*d*d\n",
    "\n",
    "print(f'Area of Circle is {area_r} in sq.mts')\n",
    "print(f'Area of Circle is {area_d} in sq.mts')"
   ]
  },
  {
   "cell_type": "markdown",
   "id": "f1586601",
   "metadata": {},
   "source": [
    "# 9-- Program to find the Prime Number in the given Interval"
   ]
  },
  {
   "cell_type": "code",
   "execution_count": 38,
   "id": "715a5125",
   "metadata": {},
   "outputs": [
    {
     "name": "stdout",
     "output_type": "stream",
     "text": [
      "Enter the Value of first number in the Interval i1:11\n",
      "Enter the Value of last number in the Interval i2:25\n",
      "11\n",
      "13\n",
      "17\n",
      "19\n",
      "23\n"
     ]
    }
   ],
   "source": [
    "i1 = int(input('Enter the Value of first number in the Interval i1:'))\n",
    "i2 = int(input('Enter the Value of last number in the Interval i2:'))\n",
    "\n",
    "\n",
    "for num in range(i1 , i2+1):\n",
    "    if num >1:\n",
    "        for div in range (2, num):\n",
    "            if num % div == 0:\n",
    "                break\n",
    "        else:\n",
    "            print(num)\n"
   ]
  },
  {
   "cell_type": "code",
   "execution_count": null,
   "id": "1ab83cf4",
   "metadata": {},
   "outputs": [],
   "source": []
  },
  {
   "cell_type": "markdown",
   "id": "cac1d9c8",
   "metadata": {},
   "source": [
    "# 10-- Program to find the Prime Number"
   ]
  },
  {
   "cell_type": "code",
   "execution_count": 21,
   "id": "64b8a4da",
   "metadata": {},
   "outputs": [
    {
     "name": "stdout",
     "output_type": "stream",
     "text": [
      "Enter the Number:4\n",
      "4 is Not a Prime Number\n"
     ]
    }
   ],
   "source": [
    "n  = int(input('Enter the Number:'))\n",
    "\n",
    "divisors = []\n",
    "\n",
    "for div in range(1,n+1):\n",
    "    if n % div == 0:\n",
    "        divisors.append(div)\n",
    "if len(divisors) == 2:\n",
    "    print(f'{n} is a Prime Number')\n",
    "else:\n",
    "     print(f'{n} is Not a Prime Number')"
   ]
  },
  {
   "cell_type": "code",
   "execution_count": null,
   "id": "1f46acab",
   "metadata": {},
   "outputs": [],
   "source": []
  }
 ],
 "metadata": {
  "kernelspec": {
   "display_name": "Python 3",
   "language": "python",
   "name": "python3"
  },
  "language_info": {
   "codemirror_mode": {
    "name": "ipython",
    "version": 3
   },
   "file_extension": ".py",
   "mimetype": "text/x-python",
   "name": "python",
   "nbconvert_exporter": "python",
   "pygments_lexer": "ipython3",
   "version": "3.8.8"
  }
 },
 "nbformat": 4,
 "nbformat_minor": 5
}
