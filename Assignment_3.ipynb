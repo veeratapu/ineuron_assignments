{
 "cells": [
  {
   "cell_type": "markdown",
   "id": "c30a97c1",
   "metadata": {},
   "source": [
    "# 1-- Program to find Reminder of Array Multiplication.... Divided by n"
   ]
  },
  {
   "cell_type": "code",
   "execution_count": 47,
   "id": "cc93dad6",
   "metadata": {},
   "outputs": [
    {
     "name": "stdout",
     "output_type": "stream",
     "text": [
      "How many elements are there in your list: 5\n",
      "1\n",
      "2\n",
      "3\n",
      "4\n",
      "5\n",
      "Your elements list is: [1, 2, 3, 4, 5, 6, 7]\n",
      "Multiplication of Numbers in the given list is : 120\n",
      "Enter the number with which Multiplied Value should be divided: 5\n",
      "Result is 24.0\n"
     ]
    }
   ],
   "source": [
    "n_l = int(input('How many elements are there in your list: '))\n",
    "array = []\n",
    "for ele in range(0,n_l):\n",
    "    ele = int(input())\n",
    "    array.append(ele)\n",
    "print(f'Your elements list is: {elements_list}')\n",
    "\n",
    "multiply = 1\n",
    "\n",
    "for e in array:\n",
    "    multiply *= e\n",
    "    \n",
    "print(f'Multiplication of Numbers in the given list is : {multiply}')\n",
    "\n",
    "n1 = int(input('Enter the number with which Multiplied Value should be divided: '))\n",
    "result = multiply / n1\n",
    "print(f'Result is {result}')"
   ]
  },
  {
   "cell_type": "markdown",
   "id": "15224fe2",
   "metadata": {},
   "source": [
    "# 2-- Program to check if given array is Monotonic"
   ]
  },
  {
   "cell_type": "code",
   "execution_count": 45,
   "id": "960ec4b1",
   "metadata": {},
   "outputs": [
    {
     "name": "stdout",
     "output_type": "stream",
     "text": [
      "How many elements are there in your list: 7\n",
      "4\n",
      "56\n",
      "3\n",
      "4\n",
      "5\n",
      "6\n",
      "3\n",
      "Your elements list is: [1, 2, 3, 4, 5, 6, 7]\n",
      "False\n"
     ]
    }
   ],
   "source": [
    "def Monotonic_check(array):\n",
    "   return (all(array[i] <= array[i + 1] for i in range(len(array) - 1)) or\n",
    "      all(array[i] >= A[i + 1] for i in range(len(array) - 1)))\n",
    "\n",
    "n_l = int(input('How many elements are there in your list: '))\n",
    "array = []\n",
    "for ele in range(0,n_l):\n",
    "    ele = int(input())\n",
    "    array.append(ele)\n",
    "print(f'Your elements list is: {elements_list}')\n",
    "print(Monotonic_check(array))"
   ]
  },
  {
   "cell_type": "markdown",
   "id": "eb56dfca",
   "metadata": {},
   "source": [
    "# 3-- Program to interchange first and last elements in a List"
   ]
  },
  {
   "cell_type": "code",
   "execution_count": 27,
   "id": "75198e98",
   "metadata": {},
   "outputs": [
    {
     "name": "stdout",
     "output_type": "stream",
     "text": [
      "3\n",
      "2\n",
      "4\n",
      "5\n",
      "6\n",
      "Your elements list is: [3, 2, 4, 5, 6]\n",
      "After Interchanging First and Last Elements in List is : [6, 2, 4, 5, 3]\n"
     ]
    }
   ],
   "source": [
    "n_l = int(input('Enter no. of elements in list: '))\n",
    "elements_list = []\n",
    "for ele in range(0,n_l):\n",
    "    ele = int(input())\n",
    "    elements_list.append(ele)\n",
    "print(f'Your elements list is: {elements_list}')\n",
    "\n",
    "elements_list[0],elements_list[-1]=elements_list[-1],elements_list[0]\n",
    "\n",
    "print(f'After Interchanging First and Last Elements in List is : {elements_list}')"
   ]
  },
  {
   "cell_type": "markdown",
   "id": "939270ea",
   "metadata": {},
   "source": [
    "# 4-- Program to Swap two elements in a List"
   ]
  },
  {
   "cell_type": "code",
   "execution_count": 25,
   "id": "ccc0513d",
   "metadata": {},
   "outputs": [
    {
     "name": "stdout",
     "output_type": "stream",
     "text": [
      "Before Swapping Particular Elements is: [1, 2, 3, 4, 5, 6]\n",
      "Enter Index of First element to swap: 3\n",
      "Enter Index of Second element to swap: 4\n",
      "After Swapping Particular Elements is: [1, 2, 3, 5, 4, 6]\n"
     ]
    }
   ],
   "source": [
    "list_3 = [1,2,3,4,5,6]\n",
    "print(f'Before Swapping Particular Elements is: {list_3}')\n",
    "\n",
    "n1 = int(input('Enter Index of First element to swap: '))\n",
    "n2 = int(input('Enter Index of Second element to swap: '))\n",
    "\n",
    "list_3[n1],list_3[n2] = list_3[n2],list_3[n1]\n",
    "\n",
    "print(f'After Swapping Particular Elements is: {list_3}')"
   ]
  },
  {
   "cell_type": "markdown",
   "id": "843ed3f6",
   "metadata": {},
   "source": [
    "# 5-- Program to find the Length of the List"
   ]
  },
  {
   "cell_type": "code",
   "execution_count": 23,
   "id": "25f8ca6e",
   "metadata": {},
   "outputs": [
    {
     "name": "stdout",
     "output_type": "stream",
     "text": [
      "Length of given list is 10\n"
     ]
    }
   ],
   "source": [
    "list2 = [1,2,3,4,5,6,7,8,9,10]\n",
    "n = 0\n",
    "for i in list2:\n",
    "    n += 1\n",
    "\n",
    "print(f'Length of given list is {n}')"
   ]
  },
  {
   "cell_type": "markdown",
   "id": "ba7a5d0e",
   "metadata": {},
   "source": [
    "# 6-- Program to check if given element exists in given list"
   ]
  },
  {
   "cell_type": "code",
   "execution_count": 21,
   "id": "b4ebd09f",
   "metadata": {},
   "outputs": [
    {
     "name": "stdout",
     "output_type": "stream",
     "text": [
      "Enter a Number:7\n",
      "7 is in the List\n"
     ]
    }
   ],
   "source": [
    "list_new = [1,2,3,4,5,6,7,8]\n",
    "n = int(input('Enter a Number:'))\n",
    "\n",
    "if n in list_new:\n",
    "    print(f'{n} is in the List')"
   ]
  },
  {
   "cell_type": "markdown",
   "id": "6f7039df",
   "metadata": {},
   "source": [
    "# 7-- Program to clear a list "
   ]
  },
  {
   "cell_type": "code",
   "execution_count": 19,
   "id": "c45a98aa",
   "metadata": {},
   "outputs": [
    {
     "name": "stdout",
     "output_type": "stream",
     "text": [
      "Cleared List is []\n"
     ]
    }
   ],
   "source": [
    "list_ = [1,2,3,4,5,6,7,8,9,10]\n",
    "\n",
    "list_.clear()\n",
    "\n",
    "print(f'Cleared List is {list_}')"
   ]
  },
  {
   "cell_type": "markdown",
   "id": "832879f6",
   "metadata": {},
   "source": [
    "# 8-- Program to Reversing a List"
   ]
  },
  {
   "cell_type": "code",
   "execution_count": 16,
   "id": "ec1a1802",
   "metadata": {},
   "outputs": [
    {
     "name": "stdout",
     "output_type": "stream",
     "text": [
      "How many elements are there in your list: 5\n",
      "1\n",
      "2\n",
      "3\n",
      "4\n",
      "5\n",
      "Your elements list is: [1, 2, 3, 4, 5]\n",
      "Reversed List of the Given list is: [5, 4, 3, 2, 1]\n"
     ]
    }
   ],
   "source": [
    "n_l = int(input('How many elements are there in your list: '))\n",
    "\n",
    "elements_list = []\n",
    "for ele in range(0,n_l):\n",
    "    ele = int(input())\n",
    "    elements_list.append(ele)\n",
    "print(f'Your elements list is: {elements_list}')\n",
    "\n",
    "reversed_list = elements_list[::-1]\n",
    "print(f'Reversed List of the Given list is: {reversed_list}')"
   ]
  },
  {
   "cell_type": "markdown",
   "id": "4105df59",
   "metadata": {},
   "source": [
    "# 9-- Program to find sum of elements in  the List"
   ]
  },
  {
   "cell_type": "code",
   "execution_count": 11,
   "id": "890a0acc",
   "metadata": {},
   "outputs": [
    {
     "name": "stdout",
     "output_type": "stream",
     "text": [
      "How many elements are there in your list: 5\n",
      "1\n",
      "2\n",
      "3\n",
      "4\n",
      "5\n",
      "Your elements list is: [1, 2, 3, 4, 5]\n",
      "Sum of Numbers in the given list is : 15\n"
     ]
    }
   ],
   "source": [
    "n_l = int(input('How many elements are there in your list: '))\n",
    "elements_list = []\n",
    "for ele in range(0,n_l):\n",
    "    ele = int(input())\n",
    "    elements_list.append(ele)\n",
    "print(f'Your elements list is: {elements_list}')\n",
    "\n",
    "s  = 0\n",
    "\n",
    "for e in elements_list:\n",
    "    s += e\n",
    "    \n",
    "print(f'Sum of Numbers in the given list is : {s}')"
   ]
  },
  {
   "cell_type": "markdown",
   "id": "ad69f02a",
   "metadata": {},
   "source": [
    "# 10-- Program to Multiply all the numbers in the List"
   ]
  },
  {
   "cell_type": "code",
   "execution_count": 12,
   "id": "3d1bbebf",
   "metadata": {},
   "outputs": [
    {
     "name": "stdout",
     "output_type": "stream",
     "text": [
      "How many elements are there in your list: 5\n",
      "1\n",
      "2\n",
      "3\n",
      "4\n",
      "5\n",
      "Your elements list is: [1, 2, 3, 4, 5]\n",
      "Multiplication of Numbers in the given list is : 120\n"
     ]
    }
   ],
   "source": [
    "n_l = int(input('How many elements are there in your list: '))\n",
    "elements_list = []\n",
    "for ele in range(0,n_l):\n",
    "    ele = int(input())\n",
    "    elements_list.append(ele)\n",
    "print(f'Your elements list is: {elements_list}')\n",
    "\n",
    "multiply = 1\n",
    "\n",
    "for e in elements_list:\n",
    "    multiply *= e\n",
    "    \n",
    "print(f'Multiplication of Numbers in the given list is : {multiply}')"
   ]
  },
  {
   "cell_type": "markdown",
   "id": "cb41cbe2",
   "metadata": {},
   "source": []
  }
 ],
 "metadata": {
  "kernelspec": {
   "display_name": "Python 3",
   "language": "python",
   "name": "python3"
  },
  "language_info": {
   "codemirror_mode": {
    "name": "ipython",
    "version": 3
   },
   "file_extension": ".py",
   "mimetype": "text/x-python",
   "name": "python",
   "nbconvert_exporter": "python",
   "pygments_lexer": "ipython3",
   "version": "3.8.8"
  }
 },
 "nbformat": 4,
 "nbformat_minor": 5
}
