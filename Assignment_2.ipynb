{
 "cells": [
  {
   "cell_type": "markdown",
   "id": "a5995ace",
   "metadata": {},
   "source": [
    "# 1-- Program to find the nth- Fibonacci number"
   ]
  },
  {
   "cell_type": "code",
   "execution_count": 16,
   "id": "0b1e184b",
   "metadata": {},
   "outputs": [
    {
     "name": "stdout",
     "output_type": "stream",
     "text": [
      "Enter the Number7\n",
      "Fibonacci Series is\n",
      "[0, 1, 1, 2, 3, 5, 8]\n",
      "Enter the value of nth term required : 7\n",
      "nth term in the series is 8\n"
     ]
    }
   ],
   "source": [
    "s = int(input('Enter the Number: '))\n",
    "s1,s2 = 0,1\n",
    "count = 0\n",
    "fib = []\n",
    "if s < 0:\n",
    "    print('Enter the Positive Number')\n",
    "elif s == 1:\n",
    "    print('Fibonacci Series is')\n",
    "    print(s1)\n",
    "else :\n",
    "    print('Fibonacci Series is')\n",
    "    while count < s :       \n",
    "        fib.append(s1)\n",
    "        Sth = s1 + s2\n",
    "        s1 = s2\n",
    "        s2 = Sth\n",
    "        count += 1\n",
    "    \n",
    "print(fib)\n",
    "\n",
    "nth = int(input('Enter the value of nth term required : '))\n",
    "t = fib[nth-1]\n",
    "print(f'nth term in the series is {t}')"
   ]
  },
  {
   "cell_type": "markdown",
   "id": "cc0c6b38",
   "metadata": {},
   "source": [
    "# 2-- Program to Check whether the Given Number is Fibonacci or No"
   ]
  },
  {
   "cell_type": "code",
   "execution_count": null,
   "id": "1490a17d",
   "metadata": {},
   "outputs": [],
   "source": [
    "c = int(input('Enter the Number to check whether it is Fibonacci or not: '))\n",
    "\n",
    "n  = 0\n",
    "n1 = 1\n",
    "n2 = 1\n",
    "\n",
    "if c < 0:\n",
    "    print('Can you Enter the Positive Number')\n",
    "elif (c == 0 or c == 1):\n",
    "    print(f'{c} is a fibonacci number')\n",
    "else:\n",
    "    while n < c:\n",
    "        n = n1 + n2\n",
    "        n2 = n1\n",
    "        n1 = n\n",
    "    if n == c:\n",
    "        print(f\"{c} is a Fibonacci Number\")\n",
    "    else:\n",
    "        print(f\"{c} is Not a Fibonacci Number\")"
   ]
  },
  {
   "cell_type": "markdown",
   "id": "ffa90119",
   "metadata": {},
   "source": [
    "# 3-- Program to find the nth Multiple of a Number in Fibonacci Series"
   ]
  },
  {
   "cell_type": "code",
   "execution_count": 26,
   "id": "c60f907a",
   "metadata": {},
   "outputs": [
    {
     "name": "stdout",
     "output_type": "stream",
     "text": [
      "Enter the Number whose Multiple is to be found : 2\n",
      "Enter the Multiple : 3\n",
      "Enter the Number of Elements to be in Series : 10\n",
      "Fibonacci Series is\n",
      "[0, 1, 1, 2, 3, 5, 8, 13, 21, 34]\n",
      "3rd Multiple of 2 in the Fibonacci Series is 34\n"
     ]
    }
   ],
   "source": [
    "x = int(input('Enter the Number whose Multiple is to be found : '))\n",
    "y = int(input('Enter the Multiple : '))\n",
    "\n",
    "s = int(input('Enter the Number of Elements to be in Series : '))\n",
    "s1,s2 = 0,1\n",
    "count = 0\n",
    "fib = []\n",
    "if s < 0:\n",
    "    print('Enter the Positive Number')\n",
    "elif s == 1:\n",
    "    print('Fibonacci Series is')\n",
    "    print(s1)\n",
    "else :\n",
    "    print('Fibonacci Series is')\n",
    "    while count < s :       \n",
    "        fib.append(s1)\n",
    "        Sth = s1 + s2\n",
    "        s1 = s2\n",
    "        s2 = Sth\n",
    "        count += 1\n",
    "    \n",
    "print(fib)\n",
    "\n",
    "multiples = []\n",
    "\n",
    "for serial in fib:\n",
    "    if serial % x == 0:\n",
    "        multiples.append(serial)\n",
    "\n",
    "#Here we have included the Zero in the list of Multiples But haven't Considered in the Final Result Counting\n",
    "\n",
    "value = multiples[y]\n",
    "\n",
    "print(f'{y}rd Multiple of {x} in the Fibonacci Series is {value}')"
   ]
  },
  {
   "cell_type": "code",
   "execution_count": null,
   "id": "62bf4004",
   "metadata": {},
   "outputs": [],
   "source": []
  },
  {
   "cell_type": "markdown",
   "id": "0a120609",
   "metadata": {},
   "source": [
    "# 4-- Program to  Find the ASCII Value of a Character"
   ]
  },
  {
   "cell_type": "code",
   "execution_count": 27,
   "id": "ff152a75",
   "metadata": {},
   "outputs": [
    {
     "name": "stdout",
     "output_type": "stream",
     "text": [
      "Enter the Character whose ASCII Value is to be Printed:p\n",
      "ASCII value of p is 112\n"
     ]
    }
   ],
   "source": [
    "char = input('Enter the Character whose ASCII Value is to be Printed:')\n",
    "ascii_value = ord(char)\n",
    "print(f'ASCII value of {char} is {ascii_value}')"
   ]
  },
  {
   "cell_type": "markdown",
   "id": "330717bb",
   "metadata": {},
   "source": [
    "# 5-- Program to find the Sum of the Squares of 'n' Natural Numbers"
   ]
  },
  {
   "cell_type": "code",
   "execution_count": 28,
   "id": "e9531204",
   "metadata": {},
   "outputs": [
    {
     "name": "stdout",
     "output_type": "stream",
     "text": [
      "Enter the last term in the square series :100\n",
      "Sum of the Squares upto given Number is 338350\n"
     ]
    }
   ],
   "source": [
    "a = int(input(\"Enter the last term in the square series :\"))\n",
    "s = 0\n",
    "for num in range(1,a+1):\n",
    "    s += num ** 2\n",
    "print(f'Sum of the Squares upto given Number is {s}')\n"
   ]
  },
  {
   "cell_type": "markdown",
   "id": "aa508ecd",
   "metadata": {},
   "source": [
    "# 6-- Program to find the Sum of the Cubes of 'n' Natural Numbers"
   ]
  },
  {
   "cell_type": "code",
   "execution_count": 29,
   "id": "0a724016",
   "metadata": {},
   "outputs": [
    {
     "name": "stdout",
     "output_type": "stream",
     "text": [
      "Enter the last term in the Cubes series :3\n",
      "Sum of the Cubes upto given Number is 36\n"
     ]
    }
   ],
   "source": [
    "b = int(input(\"Enter the last term in the Cubes series :\"))\n",
    "s = 0\n",
    "for num in range(1,b+1):\n",
    "    s += num*num*num\n",
    "print(f'Sum of the Cubes upto given Number is {s}')\n"
   ]
  },
  {
   "cell_type": "markdown",
   "id": "254a55b6",
   "metadata": {},
   "source": [
    "# 7-- Program to find Sum of Array"
   ]
  },
  {
   "cell_type": "code",
   "execution_count": 33,
   "id": "5f20f625",
   "metadata": {},
   "outputs": [
    {
     "name": "stdout",
     "output_type": "stream",
     "text": [
      "Number of Elements in the Array: 5\n",
      "1\n",
      "2\n",
      "3\n",
      "4\n",
      "5\n",
      "[1, 2, 3, 4, 5]\n",
      "Sum of elements in the array is: 15\n"
     ]
    }
   ],
   "source": [
    "array = []\n",
    "d = int(input('Number of Elements in the Array: '))\n",
    "t = 0\n",
    "for i in range(0,d):\n",
    "    ele = int(input())\n",
    "    array.append(ele)\n",
    "print(array)\n",
    "for ele in array:\n",
    "    t += ele\n",
    "print(f'Sum of elements in the array is: {t}')\n",
    "\n"
   ]
  },
  {
   "cell_type": "markdown",
   "id": "7823421e",
   "metadata": {},
   "source": [
    "# 8-- Program to find largest element in the Array"
   ]
  },
  {
   "cell_type": "code",
   "execution_count": 35,
   "id": "f75c0cb1",
   "metadata": {},
   "outputs": [
    {
     "name": "stdout",
     "output_type": "stream",
     "text": [
      "Number of Elements in the Array: 5\n",
      "2\n",
      "4\n",
      "5\n",
      "6\n",
      "8\n",
      "[2, 4, 5, 6, 8]\n",
      "Maximum value in the array is 8\n"
     ]
    }
   ],
   "source": [
    "array__ = []\n",
    "g = int(input('Number of Elements in the Array: '))\n",
    "for r in range(0,g):\n",
    "    elem = int(input())\n",
    "    array__.append(elem)\n",
    "print(array__)\n",
    "maximum_value = max(array__)\n",
    "print(f'Maximum value in the array is {maximum_value}')"
   ]
  },
  {
   "cell_type": "markdown",
   "id": "6a948f08",
   "metadata": {},
   "source": [
    "# 9-- Program for Array Rotation"
   ]
  },
  {
   "cell_type": "code",
   "execution_count": 37,
   "id": "3a4aae99",
   "metadata": {},
   "outputs": [
    {
     "name": "stdout",
     "output_type": "stream",
     "text": [
      "Rotated array is [8, 7, 6, 5, 4, 3, 2, 1]\n"
     ]
    }
   ],
   "source": [
    "array2 = [1,2,3,4,5,6,7,8]\n",
    "\n",
    "rotated_array = array2[::-1]\n",
    "\n",
    "print(f'Rotated array is {rotated_array}')\n",
    "\n"
   ]
  },
  {
   "cell_type": "markdown",
   "id": "40b8d38e",
   "metadata": {},
   "source": [
    "# 10-- Program for Reversal Algorithm for Array Rotation"
   ]
  },
  {
   "cell_type": "code",
   "execution_count": 7,
   "id": "aeba73b2",
   "metadata": {},
   "outputs": [
    {
     "name": "stdout",
     "output_type": "stream",
     "text": [
      "The list is :\n",
      "[1, 2, 3, 4, 5, 6, 7, 8, 9, 10]\n",
      "First first of reversal process is:\n",
      "The array after reversal is : \n",
      "4\n",
      "5\n",
      "6\n",
      "7\n",
      "8\n",
      "9\n",
      "10\n",
      "1\n",
      "2\n",
      "3\n"
     ]
    }
   ],
   "source": [
    "def reversing_array(array2, start, end):\n",
    "   while (start < end):\n",
    "      array3 = array2[start]\n",
    "      array2[start] = array2[end]\n",
    "      array2[end] = array3\n",
    "      start += 1\n",
    "      end = end-1\n",
    "def left_rotate(array2, rotate):\n",
    "   l = len(array2)\n",
    "   reversing_array(array2, 0, rotate-1)\n",
    "   reversing_array(array2, rotate, l-1)\n",
    "   reversing_array(array2, 0, l-1)\n",
    "def printing_array(array2):\n",
    "   for i in range(0, len(array2)):\n",
    "      print(array2[i])\n",
    "array2 = [1,2,3,4,5,6,7,8,9,10]\n",
    "print(\"The list is :\")\n",
    "print(array2)\n",
    "print(\"First first of reversal process is:\")\n",
    "left_rotate(array2, 3)\n",
    "print(\"The array after reversal is : \")\n",
    "print_array(array2)\n"
   ]
  },
  {
   "cell_type": "markdown",
   "id": "1a16a316",
   "metadata": {},
   "source": [
    "# 11-- Program to Split the Array and Adding the First Part to the End"
   ]
  },
  {
   "cell_type": "code",
   "execution_count": 46,
   "id": "66a04991",
   "metadata": {},
   "outputs": [
    {
     "name": "stdout",
     "output_type": "stream",
     "text": [
      "6 7 8 9 10 4 5 "
     ]
    }
   ],
   "source": [
    "def splitting_part(array6, lngth, rotation_value): \n",
    "    for thing in range(0,rotation_value): \n",
    "        element = array6[0]\n",
    "        for j in range(0, lngth-1):\n",
    "            array6[j] = array6[j + 1]\n",
    "          \n",
    "        array6[lngth-1] = element\n",
    "          \n",
    "array6 = [4,5,6,7,8,9,10]\n",
    "lngth = len(array6)\n",
    "rotation_value = 2\n",
    "  \n",
    "splitting_part(array6, lngth, rotation_value)\n",
    "  \n",
    "for i in range(0, lngth): \n",
    "    print(array6[i], end = ' ')"
   ]
  },
  {
   "cell_type": "code",
   "execution_count": null,
   "id": "c0e0fbbe",
   "metadata": {},
   "outputs": [],
   "source": []
  }
 ],
 "metadata": {
  "kernelspec": {
   "display_name": "Python 3",
   "language": "python",
   "name": "python3"
  },
  "language_info": {
   "codemirror_mode": {
    "name": "ipython",
    "version": 3
   },
   "file_extension": ".py",
   "mimetype": "text/x-python",
   "name": "python",
   "nbconvert_exporter": "python",
   "pygments_lexer": "ipython3",
   "version": "3.8.8"
  }
 },
 "nbformat": 4,
 "nbformat_minor": 5
}
